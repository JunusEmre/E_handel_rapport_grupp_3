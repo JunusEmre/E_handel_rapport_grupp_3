{
 "cells": [
  {
   "cell_type": "markdown",
   "id": "650ed8aa",
   "metadata": {},
   "source": [
    "# Test för att kolla ifall vi köra samma python version/virtual enviroment"
   ]
  },
  {
   "cell_type": "code",
   "execution_count": 2,
   "id": "783614ae",
   "metadata": {},
   "outputs": [
    {
     "name": "stdout",
     "output_type": "stream",
     "text": [
      "Hello World\n",
      "Test test\n"
     ]
    }
   ],
   "source": [
    "print(\"Hello World\")\n",
    "print(\"Test test\")"
   ]
  }
 ],
 "metadata": {
  "kernelspec": {
   "display_name": ".venv",
   "language": "python",
   "name": "python3"
  },
  "language_info": {
   "codemirror_mode": {
    "name": "ipython",
    "version": 3
   },
   "file_extension": ".py",
   "mimetype": "text/x-python",
   "name": "python",
   "nbconvert_exporter": "python",
   "pygments_lexer": "ipython3",
   "version": "3.13.7"
  }
 },
 "nbformat": 4,
 "nbformat_minor": 5
}
